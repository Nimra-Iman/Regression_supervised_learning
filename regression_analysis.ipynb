{
 "cells": [
  {
   "cell_type": "code",
   "execution_count": null,
   "id": "bc082445-458d-421c-949e-1048da8fcfc5",
   "metadata": {},
   "outputs": [],
   "source": [
    "there are two types of analysis in supervised ML: \n",
    "1- regression analysis\n",
    "2- classification analysis"
   ]
  },
  {
   "cell_type": "code",
   "execution_count": null,
   "id": "9ec1561a-6c81-4414-b5f6-9f2134138b95",
   "metadata": {},
   "outputs": [],
   "source": [
    "based on our target variable, we decide whether to use regression analysis or classificication\n",
    "analysis."
   ]
  },
  {
   "cell_type": "markdown",
   "id": "1630b45a-bfec-43f4-a6a1-71105dc5d1c2",
   "metadata": {},
   "source": [
    "<h1> regression analysis </h1>"
   ]
  },
  {
   "cell_type": "code",
   "execution_count": null,
   "id": "3eb90436-0109-4ed8-b417-961a2109a8b4",
   "metadata": {},
   "outputs": [],
   "source": [
    "if our dataset is continuos in nature, we use regression analysis."
   ]
  },
  {
   "cell_type": "markdown",
   "id": "8a8c44c3-3862-4153-af80-4fc33b00b261",
   "metadata": {},
   "source": [
    "<h2> types of algorithms </h2>"
   ]
  },
  {
   "cell_type": "code",
   "execution_count": null,
   "id": "196513fd-bacd-498b-8ac6-bcab7c5e6e1f",
   "metadata": {},
   "outputs": [],
   "source": [
    "they are divided into 2 types:\n",
    "1- LINEAR REGRESSION ALGORITHMS\n",
    "2- NON LINEAR REGRESSION ALGORITHMS"
   ]
  },
  {
   "cell_type": "markdown",
   "id": "cb13bc6d-da02-4f1d-b09c-27c51b0476d6",
   "metadata": {},
   "source": [
    "<h3> LINEAR REGRESSION ALGORITHMS  </h3>"
   ]
  },
  {
   "cell_type": "code",
   "execution_count": null,
   "id": "c00beadb-d58e-482e-a790-19c4e7e14f8b",
   "metadata": {},
   "outputs": [],
   "source": [
    "jab features and target k drmian linear relationship ho to linear regression algos use hon gy\n",
    "---> simple linear regression \n",
    "---> multi linear regression (when more than 1 input features)\n",
    "----> lasso regression\n",
    "---> ridge regression"
   ]
  },
  {
   "cell_type": "markdown",
   "id": "e974d8c1-586a-4caa-9587-7bbdc65e8e7d",
   "metadata": {},
   "source": [
    "<h3> NON-LINEAR REGRESSION ALGORITHMS  </h3>"
   ]
  },
  {
   "cell_type": "code",
   "execution_count": null,
   "id": "0a515802-ee81-4e99-9039-5a9142f6ee1b",
   "metadata": {},
   "outputs": [],
   "source": [
    "these algos are:\n",
    "--> polynomial regression\n",
    "--> decision tree regression\n",
    "--> random forest regression\n",
    "--> SVM\n",
    "--> KNN"
   ]
  },
  {
   "cell_type": "code",
   "execution_count": null,
   "id": "f884573a-a638-4bd2-9b58-d8209975e5df",
   "metadata": {},
   "outputs": [],
   "source": [
    "Mathematically, a linear relationship can be described by the equation of a line in the form:\n",
    "\n",
    "y=mx+b\n",
    "\n",
    "where:\n",
    "y is the target variable.\n",
    "x is the feature.\n",
    "m is the slope of the line, which represents the change in \n",
    "y for a one-unit change in x.\n",
    "b is the intercept, which is the value of 𝑦 when x is zero.\n",
    "For multiple features, the relationship can be extended to:\n",
    "\n",
    "y=b+m1x1 + m2x2 + m3x3 ... mnxn\n",
    "\n",
    "\n"
   ]
  },
  {
   "cell_type": "markdown",
   "id": "270e6b74-006d-49fd-995f-fb9aeaccfcbe",
   "metadata": {},
   "source": []
  },
  {
   "cell_type": "code",
   "execution_count": null,
   "id": "ffd6288e-a9d4-4a01-bc4b-e12fec48b844",
   "metadata": {},
   "outputs": [],
   "source": []
  }
 ],
 "metadata": {
  "kernelspec": {
   "display_name": "Python 3 (ipykernel)",
   "language": "python",
   "name": "python3"
  },
  "language_info": {
   "codemirror_mode": {
    "name": "ipython",
    "version": 3
   },
   "file_extension": ".py",
   "mimetype": "text/x-python",
   "name": "python",
   "nbconvert_exporter": "python",
   "pygments_lexer": "ipython3",
   "version": "3.12.2"
  }
 },
 "nbformat": 4,
 "nbformat_minor": 5
}
